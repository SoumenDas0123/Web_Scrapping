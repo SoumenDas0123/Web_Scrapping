{
 "cells": [
  {
   "cell_type": "markdown",
   "metadata": {},
   "source": [
    "# Web Scrapping HTML table with R"
   ]
  },
  {
   "cell_type": "markdown",
   "metadata": {},
   "source": [
    "In this notebook we will web scrape HTML tables with the help of rvest package which is part of a well known package for data science in R, called Tidyverse."
   ]
  },
  {
   "cell_type": "code",
   "execution_count": 1,
   "metadata": {},
   "outputs": [
    {
     "name": "stderr",
     "output_type": "stream",
     "text": [
      "Loading required package: xml2\n"
     ]
    }
   ],
   "source": [
    "# Loading the package in our current environment.\n",
    "# In case you dont have the package already installed in your system,use this command before to install the same:\n",
    "# install.packages('rvest')\n",
    "library('rvest')"
   ]
  },
  {
   "cell_type": "markdown",
   "metadata": {},
   "source": [
    "We are going to extract some tables on this wikipedia page https://en.wikipedia.org/wiki/Table_(information)"
   ]
  },
  {
   "cell_type": "code",
   "execution_count": 2,
   "metadata": {},
   "outputs": [],
   "source": [
    "# saving the url in a variable\n",
    "url = 'https://en.wikipedia.org/wiki/Table_(information)'"
   ]
  },
  {
   "cell_type": "code",
   "execution_count": 3,
   "metadata": {},
   "outputs": [],
   "source": [
    "# Creating a HTML document from the webpage\n",
    "doc = read_html(url)"
   ]
  },
  {
   "cell_type": "code",
   "execution_count": 4,
   "metadata": {},
   "outputs": [],
   "source": [
    "# By html_nodes() we can select parts of HTML content(using XPath and CSS selectors)\n",
    "# Extracting out all the table format content \n",
    "tab = doc %>% html_nodes('table')"
   ]
  },
  {
   "cell_type": "code",
   "execution_count": 5,
   "metadata": {},
   "outputs": [],
   "source": [
    "# Converting 1st table from the table list into R dataframe\n",
    "tab1 = tab[[1]] %>% html_table"
   ]
  },
  {
   "cell_type": "code",
   "execution_count": 6,
   "metadata": {},
   "outputs": [
    {
     "data": {
      "text/html": [
       "'data.frame'"
      ],
      "text/latex": [
       "'data.frame'"
      ],
      "text/markdown": [
       "'data.frame'"
      ],
      "text/plain": [
       "[1] \"data.frame\""
      ]
     },
     "metadata": {},
     "output_type": "display_data"
    }
   ],
   "source": [
    "# R data structure of 'tab1' object\n",
    "class(tab1)"
   ]
  },
  {
   "cell_type": "code",
   "execution_count": 7,
   "metadata": {
    "scrolled": true
   },
   "outputs": [
    {
     "data": {
      "text/html": [
       "<table>\n",
       "<thead><tr><th scope=col>First name</th><th scope=col>Last name</th><th scope=col>Age</th></tr></thead>\n",
       "<tbody>\n",
       "\t<tr><td>Tinu       </td><td>Elejogun   </td><td>14         </td></tr>\n",
       "\t<tr><td>Blaszczyk  </td><td>Kostrzewski</td><td>25         </td></tr>\n",
       "\t<tr><td>Lily       </td><td>McGarrett  </td><td>18         </td></tr>\n",
       "\t<tr><td>Olatunkbo  </td><td>Chijiaku   </td><td>22         </td></tr>\n",
       "\t<tr><td>Adrienne   </td><td>Anthoula   </td><td>22         </td></tr>\n",
       "\t<tr><td>Axelia     </td><td>Athanasios </td><td>22         </td></tr>\n",
       "\t<tr><td>Jon-Kabat  </td><td>Zinn       </td><td>22         </td></tr>\n",
       "\t<tr><td>Thabang    </td><td>Mosoa      </td><td>15         </td></tr>\n",
       "\t<tr><td>Kgaogelo   </td><td>Mosoa      </td><td>11         </td></tr>\n",
       "</tbody>\n",
       "</table>\n"
      ],
      "text/latex": [
       "\\begin{tabular}{r|lll}\n",
       " First name & Last name & Age\\\\\n",
       "\\hline\n",
       "\t Tinu        & Elejogun    & 14         \\\\\n",
       "\t Blaszczyk   & Kostrzewski & 25         \\\\\n",
       "\t Lily        & McGarrett   & 18         \\\\\n",
       "\t Olatunkbo   & Chijiaku    & 22         \\\\\n",
       "\t Adrienne    & Anthoula    & 22         \\\\\n",
       "\t Axelia      & Athanasios  & 22         \\\\\n",
       "\t Jon-Kabat   & Zinn        & 22         \\\\\n",
       "\t Thabang     & Mosoa       & 15         \\\\\n",
       "\t Kgaogelo    & Mosoa       & 11         \\\\\n",
       "\\end{tabular}\n"
      ],
      "text/markdown": [
       "\n",
       "First name | Last name | Age | \n",
       "|---|---|---|---|---|---|---|---|---|\n",
       "| Tinu        | Elejogun    | 14          | \n",
       "| Blaszczyk   | Kostrzewski | 25          | \n",
       "| Lily        | McGarrett   | 18          | \n",
       "| Olatunkbo   | Chijiaku    | 22          | \n",
       "| Adrienne    | Anthoula    | 22          | \n",
       "| Axelia      | Athanasios  | 22          | \n",
       "| Jon-Kabat   | Zinn        | 22          | \n",
       "| Thabang     | Mosoa       | 15          | \n",
       "| Kgaogelo    | Mosoa       | 11          | \n",
       "\n",
       "\n"
      ],
      "text/plain": [
       "  First name Last name   Age\n",
       "1 Tinu       Elejogun    14 \n",
       "2 Blaszczyk  Kostrzewski 25 \n",
       "3 Lily       McGarrett   18 \n",
       "4 Olatunkbo  Chijiaku    22 \n",
       "5 Adrienne   Anthoula    22 \n",
       "6 Axelia     Athanasios  22 \n",
       "7 Jon-Kabat  Zinn        22 \n",
       "8 Thabang    Mosoa       15 \n",
       "9 Kgaogelo   Mosoa       11 "
      ]
     },
     "metadata": {},
     "output_type": "display_data"
    }
   ],
   "source": [
    "# Printing out the dataframe\n",
    "tab1"
   ]
  },
  {
   "cell_type": "markdown",
   "metadata": {},
   "source": [
    "You can check out more other option from rvest package like html_text(), html_form(), etc.\n",
    "Please visit the official page for rvest package https://rvest.tidyverse.org/ "
   ]
  }
 ],
 "metadata": {
  "kernelspec": {
   "display_name": "R",
   "language": "R",
   "name": "ir"
  },
  "language_info": {
   "codemirror_mode": "r",
   "file_extension": ".r",
   "mimetype": "text/x-r-source",
   "name": "R",
   "pygments_lexer": "r",
   "version": "3.4.3"
  }
 },
 "nbformat": 4,
 "nbformat_minor": 2
}
